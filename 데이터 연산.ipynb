{
 "cells": [
  {
   "cell_type": "markdown",
   "id": "da04dac6",
   "metadata": {},
   "source": [
    "산술 연산"
   ]
  },
  {
   "cell_type": "code",
   "execution_count": 4,
   "id": "c075a4a3",
   "metadata": {},
   "outputs": [
    {
     "name": "stdout",
     "output_type": "stream",
     "text": [
      "2+3 = 5\n",
      "2.0+3 = 5.0\n",
      "2.0+3.0 = 5.0\n",
      "'2', '3' = ('2', '3')\n",
      "unsupported operand type(s) for +: 'int' and 'str'\n"
     ]
    }
   ],
   "source": [
    "print(f'{2+3 = }')\n",
    "print(f'{2.0+3 = }')\n",
    "print(f'{2.0+3.0 = }')\n",
    "print(f'{'2', '3' = }')\n",
    "\n",
    "try:\n",
    "    print(f'{2+'3' = }')   #정수 + 문자열 error\n",
    "except Exception as e:\n",
    "    print(e)"
   ]
  },
  {
   "cell_type": "code",
   "execution_count": 5,
   "id": "9cfcba12",
   "metadata": {},
   "outputs": [
    {
     "name": "stdout",
     "output_type": "stream",
     "text": [
      "2-3 = -1\n",
      "2.0-3 = -1.0\n",
      "2.0-3.0 = -1.0\n",
      "2*3 = 6\n",
      "2.0-3 = -1.0\n",
      "2.0*3.0 = 6.0\n",
      "2/3 = 0.6666666666666666\n",
      "2.0/3 = 0.6666666666666666\n",
      "2.0/3.0 = 0.6666666666666666\n"
     ]
    }
   ],
   "source": [
    "print(f'{2-3 = }')\n",
    "print(f'{2.0-3 = }')\n",
    "print(f'{2.0-3.0 = }')\n",
    "print(f'{2*3 = }')\n",
    "print(f'{2.0-3 = }')\n",
    "print(f'{2.0*3.0 = }')\n",
    "print(f'{2/3 = }')\n",
    "print(f'{2.0/3 = }')  #소수점 4번째자리까지 출력\n",
    "print(f'{2.0/3.0 = }')"
   ]
  },
  {
   "cell_type": "code",
   "execution_count": 8,
   "id": "e4aeadbc",
   "metadata": {},
   "outputs": [
    {
     "name": "stdout",
     "output_type": "stream",
     "text": [
      "20//3 = 6\n",
      "20%3 = 2\n"
     ]
    }
   ],
   "source": [
    "print(f'{20//3 = }')    #몫\n",
    "\n",
    "print(f'{20%3 = }')     #나머지"
   ]
  },
  {
   "cell_type": "code",
   "execution_count": null,
   "id": "0d90929a",
   "metadata": {},
   "outputs": [
    {
     "name": "stdout",
     "output_type": "stream",
     "text": [
      "2**3 = 8\n"
     ]
    }
   ],
   "source": [
    "print(f'{2**3 = }')     #거듭제곱"
   ]
  },
  {
   "cell_type": "code",
   "execution_count": 10,
   "id": "f88fc289",
   "metadata": {},
   "outputs": [
    {
     "name": "stdout",
     "output_type": "stream",
     "text": [
      "var_x + var_x = 'AbcAbc'\n",
      "var_y + var_y = [100, 2, 3, 100, 2, 3]\n",
      "var_x*3 = 'AbcAbcAbc'\n",
      "var_y*3 = [100, 2, 3, 100, 2, 3, 100, 2, 3]\n"
     ]
    }
   ],
   "source": [
    "var_x = 'Abc'\n",
    "var_y = [100, 2, 3]\n",
    "\n",
    "print(f'{var_x + var_x = }')\n",
    "print(f'{var_y + var_y = }')\n",
    "\n",
    "print(f'{var_x*3 = }')\n",
    "print(f'{var_y*3 = }')"
   ]
  },
  {
   "cell_type": "markdown",
   "id": "1a226969",
   "metadata": {},
   "source": [
    "비교 연산"
   ]
  },
  {
   "cell_type": "code",
   "execution_count": 13,
   "id": "ba3f0031",
   "metadata": {},
   "outputs": [
    {
     "name": "stdout",
     "output_type": "stream",
     "text": [
      "2==3 = False\n",
      "2!=3 = True\n",
      "2>3 = False\n",
      "2<3 = True\n",
      "2>=3 = False\n",
      "2<=3 = True\n"
     ]
    }
   ],
   "source": [
    "print(f'{2==3 = }')\n",
    "print(f'{2!=3 = }')\n",
    "print(f'{2>3 = }')\n",
    "print(f'{2<3 = }')\n",
    "print(f'{2>=3 = }')\n",
    "print(f'{2<=3 = }')"
   ]
  },
  {
   "cell_type": "code",
   "execution_count": 18,
   "id": "ef8956c4",
   "metadata": {},
   "outputs": [
    {
     "name": "stdout",
     "output_type": "stream",
     "text": [
      "(var_y == [1,2,3]) = True\n",
      "(var_y == (1,2,3)) = False\n",
      "(var_y == [1,2]) = False\n",
      "(var_y != [1,2]) = True\n",
      "(var_y > [1,2]) = True\n",
      "(var_y < [1,2]) = False\n"
     ]
    }
   ],
   "source": [
    "var_y = [1,2,3]\n",
    "\n",
    "print(f'{(var_y == [1,2,3]) = }')\n",
    "print(f'{(var_y == (1,2,3)) = }')\n",
    "print(f'{(var_y == [1,2]) = }')\n",
    "print(f'{(var_y != [1,2]) = }')\n",
    "print(f'{(var_y > [1,2]) = }')\n",
    "print(f'{(var_y < [1,2]) = }')"
   ]
  },
  {
   "cell_type": "markdown",
   "id": "a7a75c16",
   "metadata": {},
   "source": [
    "논리 연산\n",
    "- and : 둘 다 참일 때만 참\n",
    "- or : 둘 중 하나만 참이어도 참\n",
    "- not : 참이면 거짓, 거짓이면 참"
   ]
  },
  {
   "cell_type": "code",
   "execution_count": 19,
   "id": "5dff3510",
   "metadata": {},
   "outputs": [
    {
     "data": {
      "text/plain": [
       "True"
      ]
     },
     "execution_count": 19,
     "metadata": {},
     "output_type": "execute_result"
    }
   ],
   "source": [
    "True and True"
   ]
  },
  {
   "cell_type": "code",
   "execution_count": 28,
   "id": "fbc1b22f",
   "metadata": {},
   "outputs": [
    {
     "name": "stdout",
     "output_type": "stream",
     "text": [
      "var_y = False\n",
      "var_x and var_y = False\n",
      "var_x or var_y = True\n",
      "not var_x = False\n"
     ]
    }
   ],
   "source": [
    "var_x = True\n",
    "\n",
    "var_y = (10 > 20)\n",
    "\n",
    "print(f'{var_y = }')\n",
    "print(f'{var_x and var_y = }')\n",
    "print(f'{var_x or var_y = }')\n",
    "print(f'{not var_x = }')"
   ]
  },
  {
   "cell_type": "code",
   "execution_count": 29,
   "id": "682bdd3e",
   "metadata": {},
   "outputs": [
    {
     "name": "stdout",
     "output_type": "stream",
     "text": [
      "(2==3) and (2!=3) = False\n"
     ]
    }
   ],
   "source": [
    "# 관계연산자와 논리연산자를 함께 사용\n",
    "print(f'{(2==3) and (2!=3) = }')"
   ]
  },
  {
   "cell_type": "markdown",
   "id": "14d1dbe3",
   "metadata": {},
   "source": [
    "멤버십 연산 : 데이터가 특정 집합에 포함되어 있는지를 확인"
   ]
  },
  {
   "cell_type": "code",
   "execution_count": 32,
   "id": "af90f9fe",
   "metadata": {},
   "outputs": [
    {
     "name": "stdout",
     "output_type": "stream",
     "text": [
      "(1 in var_y) = True\n",
      "('1' in var_y) = False\n",
      "(4 in var_y) = False\n",
      "(1 not in var_y) = False\n",
      "(4 not in var_y) = True\n"
     ]
    }
   ],
   "source": [
    "var_y = [1, 2, 3]\n",
    "\n",
    "print(f'{(1 in var_y) = }')\n",
    "print(f'{('1' in var_y) = }')\n",
    "print(f'{(4 in var_y) = }')\n",
    "print(f'{(1 not in var_y) = }')\n",
    "print(f'{(4 not in var_y) = }')"
   ]
  },
  {
   "cell_type": "code",
   "execution_count": null,
   "id": "b80681ce",
   "metadata": {},
   "outputs": [],
   "source": [
    "식별 연산\n",
    "- is : 동일한 객체이면 참\n",
    "- is not : 동일한 객체가 아니면 참"
   ]
  },
  {
   "cell_type": "code",
   "execution_count": 34,
   "id": "9db733c7",
   "metadata": {},
   "outputs": [
    {
     "name": "stdout",
     "output_type": "stream",
     "text": [
      "(var_x == 10) = True\n",
      "(var_x is 10) = True\n"
     ]
    },
    {
     "name": "stderr",
     "output_type": "stream",
     "text": [
      "<>:4: SyntaxWarning: \"is\" with 'int' literal. Did you mean \"==\"?\n",
      "<>:4: SyntaxWarning: \"is\" with 'int' literal. Did you mean \"==\"?\n",
      "C:\\Users\\Win10\\AppData\\Local\\Temp\\ipykernel_11700\\3405712263.py:4: SyntaxWarning: \"is\" with 'int' literal. Did you mean \"==\"?\n",
      "  print(f'{(var_x is 10) = }')\n"
     ]
    }
   ],
   "source": [
    "var_x = 10\n",
    "\n",
    "print(f'{(var_x == 10) = }')\n",
    "print(f'{(var_x is 10) = }')"
   ]
  },
  {
   "cell_type": "code",
   "execution_count": 36,
   "id": "7434ded6",
   "metadata": {},
   "outputs": [
    {
     "name": "stdout",
     "output_type": "stream",
     "text": [
      "(var_x is var_y) = False\n",
      "(var_x is var_z) = True\n",
      "(var_x is not var_y) = True\n",
      "(var_x is not var_z) = False\n"
     ]
    }
   ],
   "source": [
    "var_x = 10\n",
    "var_y = 10.0\n",
    "var_z = var_x\n",
    "\n",
    "print(f'{(var_x is var_y) = }')    #값이 동일한 것과는 다름!\n",
    "print(f'{(var_x is var_z) = }')\n",
    "print(f'{(var_x is not var_y) = }')\n",
    "print(f'{(var_x is not var_z) = }')"
   ]
  },
  {
   "cell_type": "markdown",
   "id": "52599578",
   "metadata": {},
   "source": [
    "복합 대입 연산\n",
    " : 연산과 대입을 동시에 수행하는 연산자"
   ]
  },
  {
   "cell_type": "code",
   "execution_count": 38,
   "id": "f37a43d9",
   "metadata": {},
   "outputs": [
    {
     "name": "stdout",
     "output_type": "stream",
     "text": [
      "2\n"
     ]
    }
   ],
   "source": [
    "var_x = 1\n",
    "var_x += 1\n",
    "\n",
    "print(var_x)"
   ]
  },
  {
   "cell_type": "code",
   "execution_count": 40,
   "id": "ebb1fc42",
   "metadata": {},
   "outputs": [
    {
     "name": "stdout",
     "output_type": "stream",
     "text": [
      "11\n",
      "10\n",
      "20\n",
      "10.0\n",
      "5.0\n",
      "1.0\n",
      "1.0\n"
     ]
    }
   ],
   "source": [
    "var_x = 1\n",
    "\n",
    "var_x += 10; print(var_x)\n",
    "var_x -= 1; print(var_x) \n",
    "var_x *= 2; print(var_x) \n",
    "var_x /= 2; print(var_x)\n",
    "var_x //= 2; print(var_x) \n",
    "var_x %= 2; print(var_x) \n",
    "var_x ** 2; print(var_x) "
   ]
  },
  {
   "cell_type": "markdown",
   "id": "dc58d06b",
   "metadata": {},
   "source": [
    "연산의 우선순위"
   ]
  },
  {
   "cell_type": "code",
   "execution_count": 43,
   "id": "b0525a6b",
   "metadata": {},
   "outputs": [
    {
     "name": "stdout",
     "output_type": "stream",
     "text": [
      "13\n",
      "256\n",
      "True\n",
      "False\n",
      "False\n"
     ]
    }
   ],
   "source": [
    "print(2**3+5)\n",
    "print(2**(3+5))\n",
    "print(2+3<=4*5)\n",
    "print(not 2+3<=4*5)\n",
    "print(not (2+3)<=(4*5))"
   ]
  },
  {
   "cell_type": "markdown",
   "id": "905222a6",
   "metadata": {},
   "source": [
    "강의록을 기반으로 추가 학습한 내용"
   ]
  },
  {
   "cell_type": "code",
   "execution_count": 6,
   "id": "9df0ad87",
   "metadata": {},
   "outputs": [
    {
     "name": "stdout",
     "output_type": "stream",
     "text": [
      "2.0/3.0 = 0.6667\n",
      "2**3.2 = 9.18958683997628\n"
     ]
    }
   ],
   "source": [
    "print(f'{2.0/3.0 = :.4f}')  #소수점 4번째자리까지 출력\n",
    "print(f'{2**3.2 = }')"
   ]
  },
  {
   "cell_type": "code",
   "execution_count": null,
   "id": "8ef96908",
   "metadata": {},
   "outputs": [
    {
     "data": {
      "text/plain": [
       "False"
      ]
     },
     "execution_count": 20,
     "metadata": {},
     "output_type": "execute_result"
    }
   ],
   "source": [
    "True and False  #둘 다 참일 때만 참 -> 아니므로 false"
   ]
  },
  {
   "cell_type": "code",
   "execution_count": null,
   "id": "7f06caa7",
   "metadata": {},
   "outputs": [
    {
     "data": {
      "text/plain": [
       "True"
      ]
     },
     "execution_count": 21,
     "metadata": {},
     "output_type": "execute_result"
    }
   ],
   "source": [
    "False or True   #둘 중 하나만 참이면 참 -> true"
   ]
  }
 ],
 "metadata": {
  "kernelspec": {
   "display_name": "base",
   "language": "python",
   "name": "python3"
  },
  "language_info": {
   "codemirror_mode": {
    "name": "ipython",
    "version": 3
   },
   "file_extension": ".py",
   "mimetype": "text/x-python",
   "name": "python",
   "nbconvert_exporter": "python",
   "pygments_lexer": "ipython3",
   "version": "3.12.9"
  }
 },
 "nbformat": 4,
 "nbformat_minor": 5
}
