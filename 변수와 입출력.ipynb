{
 "cells": [
  {
   "cell_type": "markdown",
   "id": "0a208409",
   "metadata": {},
   "source": [
    "변수의 생성"
   ]
  },
  {
   "cell_type": "code",
   "execution_count": null,
   "id": "170643e5",
   "metadata": {},
   "outputs": [
    {
     "name": "stdout",
     "output_type": "stream",
     "text": [
      "경영학\n",
      "1969425354384\n"
     ]
    }
   ],
   "source": [
    "var_x = '경영학'\n",
    "\n",
    "print(var_x)\n",
    "print(id(var_x))\n"
   ]
  },
  {
   "cell_type": "code",
   "execution_count": 2,
   "id": "5bd34a45",
   "metadata": {},
   "outputs": [
    {
     "name": "stdout",
     "output_type": "stream",
     "text": [
      "경영학과\n",
      "1969447291120\n"
     ]
    }
   ],
   "source": [
    "var_x = '경영학과'\n",
    "\n",
    "print(var_x)\n",
    "print(id(var_x))"
   ]
  },
  {
   "cell_type": "code",
   "execution_count": 3,
   "id": "6b8a8b6d",
   "metadata": {},
   "outputs": [
    {
     "name": "stdout",
     "output_type": "stream",
     "text": [
      "경영학과\n",
      "1969447633744\n"
     ]
    }
   ],
   "source": [
    "var_y = '경영학과'\n",
    "\n",
    "print(var_y)\n",
    "print(id(var_y))"
   ]
  },
  {
   "cell_type": "code",
   "execution_count": 4,
   "id": "a348c5f0",
   "metadata": {},
   "outputs": [
    {
     "data": {
      "application/json": {
       "cell": {
        "!": "OSMagics",
        "HTML": "Other",
        "SVG": "Other",
        "bash": "Other",
        "capture": "ExecutionMagics",
        "cmd": "Other",
        "code_wrap": "ExecutionMagics",
        "debug": "ExecutionMagics",
        "file": "Other",
        "html": "DisplayMagics",
        "javascript": "DisplayMagics",
        "js": "DisplayMagics",
        "latex": "DisplayMagics",
        "markdown": "DisplayMagics",
        "perl": "Other",
        "prun": "ExecutionMagics",
        "pypy": "Other",
        "python": "Other",
        "python2": "Other",
        "python3": "Other",
        "ruby": "Other",
        "script": "ScriptMagics",
        "sh": "Other",
        "svg": "DisplayMagics",
        "sx": "OSMagics",
        "system": "OSMagics",
        "time": "ExecutionMagics",
        "timeit": "ExecutionMagics",
        "writefile": "OSMagics"
       },
       "line": {
        "alias": "OSMagics",
        "alias_magic": "BasicMagics",
        "autoawait": "AsyncMagics",
        "autocall": "AutoMagics",
        "automagic": "AutoMagics",
        "autosave": "KernelMagics",
        "bookmark": "OSMagics",
        "cd": "OSMagics",
        "clear": "KernelMagics",
        "cls": "KernelMagics",
        "code_wrap": "ExecutionMagics",
        "colors": "BasicMagics",
        "conda": "PackagingMagics",
        "config": "ConfigMagics",
        "connect_info": "KernelMagics",
        "copy": "Other",
        "ddir": "Other",
        "debug": "ExecutionMagics",
        "dhist": "OSMagics",
        "dirs": "OSMagics",
        "doctest_mode": "BasicMagics",
        "echo": "Other",
        "ed": "Other",
        "edit": "KernelMagics",
        "env": "OSMagics",
        "gui": "BasicMagics",
        "hist": "Other",
        "history": "HistoryMagics",
        "killbgscripts": "ScriptMagics",
        "ldir": "Other",
        "less": "KernelMagics",
        "load": "CodeMagics",
        "load_ext": "ExtensionMagics",
        "loadpy": "CodeMagics",
        "logoff": "LoggingMagics",
        "logon": "LoggingMagics",
        "logstart": "LoggingMagics",
        "logstate": "LoggingMagics",
        "logstop": "LoggingMagics",
        "ls": "Other",
        "lsmagic": "BasicMagics",
        "macro": "ExecutionMagics",
        "magic": "BasicMagics",
        "mamba": "PackagingMagics",
        "matplotlib": "PylabMagics",
        "micromamba": "PackagingMagics",
        "mkdir": "Other",
        "more": "KernelMagics",
        "notebook": "BasicMagics",
        "page": "BasicMagics",
        "pastebin": "CodeMagics",
        "pdb": "ExecutionMagics",
        "pdef": "NamespaceMagics",
        "pdoc": "NamespaceMagics",
        "pfile": "NamespaceMagics",
        "pinfo": "NamespaceMagics",
        "pinfo2": "NamespaceMagics",
        "pip": "PackagingMagics",
        "popd": "OSMagics",
        "pprint": "BasicMagics",
        "precision": "BasicMagics",
        "prun": "ExecutionMagics",
        "psearch": "NamespaceMagics",
        "psource": "NamespaceMagics",
        "pushd": "OSMagics",
        "pwd": "OSMagics",
        "pycat": "OSMagics",
        "pylab": "PylabMagics",
        "qtconsole": "KernelMagics",
        "quickref": "BasicMagics",
        "recall": "HistoryMagics",
        "rehashx": "OSMagics",
        "reload_ext": "ExtensionMagics",
        "ren": "Other",
        "rep": "Other",
        "rerun": "HistoryMagics",
        "reset": "NamespaceMagics",
        "reset_selective": "NamespaceMagics",
        "rmdir": "Other",
        "run": "ExecutionMagics",
        "save": "CodeMagics",
        "sc": "OSMagics",
        "set_env": "OSMagics",
        "store": "StoreMagics",
        "sx": "OSMagics",
        "system": "OSMagics",
        "tb": "ExecutionMagics",
        "time": "ExecutionMagics",
        "timeit": "ExecutionMagics",
        "unalias": "OSMagics",
        "unload_ext": "ExtensionMagics",
        "uv": "PackagingMagics",
        "who": "NamespaceMagics",
        "who_ls": "NamespaceMagics",
        "whos": "NamespaceMagics",
        "xdel": "NamespaceMagics",
        "xmode": "BasicMagics"
       }
      },
      "text/plain": [
       "Available line magics:\n",
       "%alias  %alias_magic  %autoawait  %autocall  %automagic  %autosave  %bookmark  %cd  %clear  %cls  %code_wrap  %colors  %conda  %config  %connect_info  %copy  %ddir  %debug  %dhist  %dirs  %doctest_mode  %echo  %ed  %edit  %env  %gui  %hist  %history  %killbgscripts  %ldir  %less  %load  %load_ext  %loadpy  %logoff  %logon  %logstart  %logstate  %logstop  %ls  %lsmagic  %macro  %magic  %mamba  %matplotlib  %micromamba  %mkdir  %more  %notebook  %page  %pastebin  %pdb  %pdef  %pdoc  %pfile  %pinfo  %pinfo2  %pip  %popd  %pprint  %precision  %prun  %psearch  %psource  %pushd  %pwd  %pycat  %pylab  %qtconsole  %quickref  %recall  %rehashx  %reload_ext  %ren  %rep  %rerun  %reset  %reset_selective  %rmdir  %run  %save  %sc  %set_env  %store  %sx  %system  %tb  %time  %timeit  %unalias  %unload_ext  %uv  %who  %who_ls  %whos  %xdel  %xmode\n",
       "\n",
       "Available cell magics:\n",
       "%%!  %%HTML  %%SVG  %%bash  %%capture  %%cmd  %%code_wrap  %%debug  %%file  %%html  %%javascript  %%js  %%latex  %%markdown  %%perl  %%prun  %%pypy  %%python  %%python2  %%python3  %%ruby  %%script  %%sh  %%svg  %%sx  %%system  %%time  %%timeit  %%writefile\n",
       "\n",
       "Automagic is ON, % prefix IS NOT needed for line magics."
      ]
     },
     "execution_count": 4,
     "metadata": {},
     "output_type": "execute_result"
    }
   ],
   "source": [
    "%lsmagic"
   ]
  },
  {
   "cell_type": "code",
   "execution_count": 5,
   "id": "416b4545",
   "metadata": {},
   "outputs": [
    {
     "data": {
      "text/plain": [
       "'c:\\\\Users\\\\Administrator\\\\Desktop\\\\C531122'"
      ]
     },
     "execution_count": 5,
     "metadata": {},
     "output_type": "execute_result"
    }
   ],
   "source": [
    "%pwd"
   ]
  },
  {
   "cell_type": "code",
   "execution_count": 6,
   "id": "cefa6a5f",
   "metadata": {},
   "outputs": [
    {
     "name": "stdout",
     "output_type": "stream",
     "text": [
      " C ����̺��� �������� �̸��� �����ϴ�.\n",
      " ���� �Ϸ� ��ȣ: AC69-15E7\n",
      "\n",
      " c:\\Users\\Administrator\\Desktop\\C531122 ���͸�\n",
      "\n",
      "2025-04-06  ���� 03:18    <DIR>          .\n",
      "2025-04-06  ���� 03:18    <DIR>          ..\n",
      "2025-04-06  ���� 03:18                 0 ������ �����.ipynb\n",
      "               1�� ����                   0 ����Ʈ\n",
      "               2�� ���͸�  24,608,616,448 ����Ʈ ����\n"
     ]
    }
   ],
   "source": [
    "%ls"
   ]
  },
  {
   "cell_type": "code",
   "execution_count": 7,
   "id": "9f677927",
   "metadata": {},
   "outputs": [
    {
     "name": "stdout",
     "output_type": "stream",
     "text": [
      "Variable   Type    Data/Info\n",
      "----------------------------\n",
      "var_x      str     경영학과\n",
      "var_y      str     경영학과\n"
     ]
    }
   ],
   "source": [
    "%whos"
   ]
  },
  {
   "cell_type": "markdown",
   "id": "553b7f5f",
   "metadata": {},
   "source": [
    "변수의 삭제"
   ]
  },
  {
   "cell_type": "code",
   "execution_count": 8,
   "id": "be4ab9f3",
   "metadata": {},
   "outputs": [
    {
     "name": "stdout",
     "output_type": "stream",
     "text": [
      "Variable   Type    Data/Info\n",
      "----------------------------\n",
      "var_x      str     경영학과\n",
      "var_y      str     경영학과\n",
      "var_z1     int     123\n",
      "var_z2     list    n=5\n"
     ]
    }
   ],
   "source": [
    "var_z1 = 123\n",
    "var_z2 = [1,2,3,4,5]\n",
    "\n",
    "%whos"
   ]
  },
  {
   "cell_type": "code",
   "execution_count": 9,
   "id": "e6423f1f",
   "metadata": {},
   "outputs": [
    {
     "name": "stdout",
     "output_type": "stream",
     "text": [
      "Variable   Type    Data/Info\n",
      "----------------------------\n",
      "var_y      str     경영학과\n",
      "var_z1     int     123\n",
      "var_z2     list    n=5\n"
     ]
    }
   ],
   "source": [
    "del var_x\n",
    "\n",
    "%whos"
   ]
  },
  {
   "cell_type": "code",
   "execution_count": 10,
   "id": "324dfe13",
   "metadata": {},
   "outputs": [
    {
     "name": "stdout",
     "output_type": "stream",
     "text": [
      "Interactive namespace is empty.\n"
     ]
    }
   ],
   "source": [
    "del var_y, var_z1, var_z2\n",
    "\n",
    "%whos"
   ]
  },
  {
   "cell_type": "code",
   "execution_count": null,
   "id": "5c5e5392",
   "metadata": {},
   "outputs": [],
   "source": [
    "데이터의 입출력"
   ]
  },
  {
   "cell_type": "code",
   "execution_count": 13,
   "id": "1eb59777",
   "metadata": {},
   "outputs": [],
   "source": [
    "var_x = input('데이터를 입력하세요: ')"
   ]
  },
  {
   "cell_type": "code",
   "execution_count": 14,
   "id": "55192920",
   "metadata": {},
   "outputs": [
    {
     "name": "stdout",
     "output_type": "stream",
     "text": [
      "var_x = 'hello'\n",
      "type(var_x) = <class 'str'>\n"
     ]
    }
   ],
   "source": [
    "print(f'{var_x = }')\n",
    "print(f'{type(var_x) = }')"
   ]
  },
  {
   "cell_type": "code",
   "execution_count": 15,
   "id": "2af58b10",
   "metadata": {},
   "outputs": [],
   "source": [
    "var_y = int(input('숫자를 입력하세요: '))"
   ]
  },
  {
   "cell_type": "code",
   "execution_count": null,
   "id": "bd08ae9c",
   "metadata": {},
   "outputs": [
    {
     "name": "stdout",
     "output_type": "stream",
     "text": [
      "1122\n",
      "<class 'int'>\n"
     ]
    }
   ],
   "source": [
    "print(var_y)\n",
    "print(type(var_y))"
   ]
  },
  {
   "cell_type": "markdown",
   "id": "b82bda81",
   "metadata": {},
   "source": [
    "print 함수"
   ]
  },
  {
   "cell_type": "code",
   "execution_count": 20,
   "id": "1b340ea4",
   "metadata": {},
   "outputs": [
    {
     "name": "stdout",
     "output_type": "stream",
     "text": [
      "10\n",
      "10 경영학과 3.14 True\n",
      "10|경영학과|3.14|True\n",
      "10/경영학과/3.14/True\t******\n"
     ]
    }
   ],
   "source": [
    "print(10)\n",
    "print(10, '경영학과', 3.14, True)\n",
    "print(10, '경영학과', 3.14, True, sep='|')\n",
    "print(10, '경영학과', 3.14, True, sep='/', end='\\t******\\n') #\\t -> tap 사용"
   ]
  },
  {
   "cell_type": "markdown",
   "id": "3ee9fce9",
   "metadata": {},
   "source": [
    "이스케이프 문자"
   ]
  },
  {
   "cell_type": "code",
   "execution_count": 28,
   "id": "8c92bb45",
   "metadata": {},
   "outputs": [
    {
     "name": "stdout",
     "output_type": "stream",
     "text": [
      "이름 : 홍길동\n",
      "학번 : C123456\n",
      "학과 : 경영학과\n"
     ]
    }
   ],
   "source": [
    "print('이름 : 홍길동\\n학번 : C123456\\n학과 : 경영학과')"
   ]
  },
  {
   "cell_type": "code",
   "execution_count": 30,
   "id": "1503a40f",
   "metadata": {},
   "outputs": [
    {
     "name": "stdout",
     "output_type": "stream",
     "text": [
      "이름\t\t학번\t\t학과\n",
      "홍길동\t\tC123456\t\t경영학과\n",
      "김강\t\tC654321\t\t경영학과\n"
     ]
    }
   ],
   "source": [
    "print('이름\\t\\t학번\\t\\t학과')\n",
    "print('홍길동\\t\\tC123456\\t\\t경영학과')\n",
    "print('김강\\t\\tC654321\\t\\t경영학과')"
   ]
  },
  {
   "cell_type": "markdown",
   "id": "b735f697",
   "metadata": {},
   "source": [
    "f - string\n",
    "-> 문자열과 변수를 혼합하여 출력\n",
    "-> f'{변수명} : 변수의 값 출력\n",
    "-> f'{변수명 = } : 변수의 값과 변수명 출력"
   ]
  },
  {
   "cell_type": "code",
   "execution_count": null,
   "id": "3f43364f",
   "metadata": {},
   "outputs": [
    {
     "name": "stdout",
     "output_type": "stream",
     "text": [
      "54321\n",
      "-----------------\n",
      "var_y = 54321\n",
      "-----------------\n",
      "var_y = 54321\n"
     ]
    }
   ],
   "source": [
    "var_y = 54321\n",
    "\n",
    "print(f'{var_y}', end='\\n-----------------\\n')     #변수 값 출력\n",
    "\n",
    "print(f'{var_y = }', end='\\n-----------------\\n')  #변수 값과 변수명 출력\n",
    "print(f'var_y = {var_y}')"
   ]
  },
  {
   "cell_type": "code",
   "execution_count": 35,
   "id": "daea171b",
   "metadata": {},
   "outputs": [
    {
     "name": "stdout",
     "output_type": "stream",
     "text": [
      "var_x는 정수형이므로 d를 사용하여야 하고, 54321입니다. \n",
      "var_x를 총 20개의 자리에 표현하면,                54321입니다. \n",
      "var_x를 총 20개의 자리에 왼쪽 정렬하여 표현하면, 54321               입니다. \n",
      "var_y는 실수형이므로 f를 사용하여야 하고, 54321.123457입니다. \n",
      "var_y를 정수만 출력하면, 54321입니다. \n",
      "var_y를 소수점 5자리까지 표현하면, 54321.12346입니다. \n",
      "var_y를 20자리에 가운데 정렬하여 소수점 3자리까지 출력하면,      54321.123      입니다. \n"
     ]
    }
   ],
   "source": [
    "var_x = 54321\n",
    "var_y = 54321.123456789\n",
    "\n",
    "print(f'var_x는 정수형이므로 d를 사용하여야 하고, {var_x:d}입니다. ')\n",
    "print(f'var_x를 총 20개의 자리에 표현하면, {var_x:20d}입니다. ')\n",
    "print(f'var_x를 총 20개의 자리에 왼쪽 정렬하여 표현하면, {var_x:<20d}입니다. ')\n",
    "print(f'var_y는 실수형이므로 f를 사용하여야 하고, {var_y:f}입니다. ')\n",
    "print(f'var_y를 정수만 출력하면, {var_y:.0f}입니다. ')\n",
    "print(f'var_y를 소수점 5자리까지 표현하면, {var_y:.5f}입니다. ')\n",
    "print(f'var_y를 20자리에 가운데 정렬하여 소수점 3자리까지 출력하면, {var_y:^-20.3f}입니다. ')"
   ]
  },
  {
   "cell_type": "markdown",
   "id": "ead5ce59",
   "metadata": {},
   "source": [
    "강의록을 기반으로 추가 학습한 내용"
   ]
  },
  {
   "cell_type": "code",
   "execution_count": 65,
   "id": "57510e54",
   "metadata": {},
   "outputs": [
    {
     "name": "stdout",
     "output_type": "stream",
     "text": [
      "78.227 884556\n",
      "1969446406928\n",
      "1969453745744\n"
     ]
    }
   ],
   "source": [
    "#변수 x, y 선언 및  print()\n",
    "x = 78.227\n",
    "y = 884556\n",
    "print(x, y) #한 줄에 두 변수 출력\n",
    "\n",
    "#변수의 메모리 주소 출력\n",
    "print(id(x))\n",
    "print(id(y))"
   ]
  },
  {
   "cell_type": "code",
   "execution_count": null,
   "id": "170c95b3",
   "metadata": {},
   "outputs": [
    {
     "name": "stdout",
     "output_type": "stream",
     "text": [
      "78.227\n",
      "1969424100112\n"
     ]
    }
   ],
   "source": [
    "#변수 y에 다른 데이터 저장\n",
    "y = '78.227'\n",
    "print(y)\n",
    "print(id(var_y)) #x와 동일한 데이터 -> 다른 메모리 주소 출력"
   ]
  },
  {
   "cell_type": "code",
   "execution_count": 68,
   "id": "7faa6fce",
   "metadata": {},
   "outputs": [
    {
     "name": "stdout",
     "output_type": "stream",
     "text": [
      "Variable   Type     Data/Info\n",
      "-----------------------------\n",
      "X          float    78.227\n",
      "var_X      str      hello\n",
      "var_x      int      54321\n",
      "var_y      float    54321.123456789\n",
      "x          float    78.227\n"
     ]
    }
   ],
   "source": [
    "#변수 y 삭제\n",
    "del y\n",
    "%whos"
   ]
  },
  {
   "cell_type": "code",
   "execution_count": null,
   "id": "2cbf9682",
   "metadata": {},
   "outputs": [],
   "source": [
    "#데이터 입력 -> 변수 data1에 저장\n",
    "data1 = input('데이터를 입력하시오 : ')"
   ]
  },
  {
   "cell_type": "code",
   "execution_count": null,
   "id": "1df22144",
   "metadata": {},
   "outputs": [
    {
     "name": "stdout",
     "output_type": "stream",
     "text": [
      "비즈니스프로그래밍\n",
      "data1 ='비즈니스프로그래밍'\n",
      "type(data1) = <class 'str'>\n"
     ]
    }
   ],
   "source": [
    "print(data1)                    #data1의 데이터만 출력\n",
    "print(f'{data1 =}')\n",
    "print(f'{type(data1) = }')      #data1의 데이터 타입 출력"
   ]
  },
  {
   "cell_type": "code",
   "execution_count": 81,
   "id": "748b683d",
   "metadata": {},
   "outputs": [
    {
     "name": "stdout",
     "output_type": "stream",
     "text": [
      "이름 : 신가연\n",
      " 학번 : C531122 \n",
      " 학과 : 경영학과\n"
     ]
    }
   ],
   "source": [
    "print('이름 : 신가연\\n 학번 : C531122 \\n 학과 : 경영학과') #띄어쓰기는 표기에 반영"
   ]
  },
  {
   "cell_type": "code",
   "execution_count": null,
   "id": "32471dd4",
   "metadata": {},
   "outputs": [
    {
     "name": "stdout",
     "output_type": "stream",
     "text": [
      "제 이름은 홍길동이고 나이는 20입니다.\n"
     ]
    }
   ],
   "source": [
    "#f-string 활용 - 자기소개\n",
    "name = '홍길동'\n",
    "age = 20\n",
    "\n",
    "print(f'제 이름은 {name}이고 나이는 {age}입니다.')"
   ]
  },
  {
   "cell_type": "code",
   "execution_count": null,
   "id": "4371fa32",
   "metadata": {},
   "outputs": [
    {
     "name": "stdout",
     "output_type": "stream",
     "text": [
      "data3를 30개 자리 중 가운데에 출력하면,      20.777889      입니다. \n",
      "data3를 반올림하여 정수부분만 출력하면, 21\n"
     ]
    }
   ],
   "source": [
    "data3 = 20.777888999 #실수형 데이터 data3 선언\n",
    "print(f'data3를 20개 자리 중 가운데에 출력하면, {data3:^20f}입니다. ')\n",
    "print(f'data3를 반올림하여 정수부분만 출력하면, {data3:.0f}')"
   ]
  },
  {
   "cell_type": "code",
   "execution_count": null,
   "id": "2aae37d8",
   "metadata": {},
   "outputs": [
    {
     "ename": "ValueError",
     "evalue": "Unknown format code 'd' for object of type 'float'",
     "output_type": "error",
     "traceback": [
      "\u001b[31m---------------------------------------------------------------------------\u001b[39m",
      "\u001b[31mValueError\u001b[39m                                Traceback (most recent call last)",
      "\u001b[36mCell\u001b[39m\u001b[36m \u001b[39m\u001b[32mIn[115]\u001b[39m\u001b[32m, line 1\u001b[39m\n\u001b[32m----> \u001b[39m\u001b[32m1\u001b[39m \u001b[38;5;28mprint\u001b[39m(\u001b[33mf\u001b[39m\u001b[33m'\u001b[39m\u001b[33mdata3를 20개 자리 중 가운데에 출력하면, \u001b[39m\u001b[38;5;132;43;01m{\u001b[39;49;00m\u001b[43mdata3\u001b[49m\u001b[38;5;132;43;01m:\u001b[39;49;00m\u001b[33;43m^20d\u001b[39;49m\u001b[38;5;132;43;01m}\u001b[39;49;00m\u001b[33m입니다. \u001b[39m\u001b[33m'\u001b[39m)\n",
      "\u001b[31mValueError\u001b[39m: Unknown format code 'd' for object of type 'float'"
     ]
    }
   ],
   "source": [
    "print(f'data3를 20개 자리 중 가운데에 출력하면, {data3:^20d}입니다. ')\n",
    "#data3는 실수형이므로 d(정수형) 사용 시 오류"
   ]
  },
  {
   "cell_type": "code",
   "execution_count": null,
   "id": "5f6a8dfd",
   "metadata": {},
   "outputs": [
    {
     "name": "stdout",
     "output_type": "stream",
     "text": [
      "data4를 출력, 안녕하세요\n",
      "data4를 출력,        안녕하세요        \n",
      "data4를 출력,                안녕하세요\n"
     ]
    }
   ],
   "source": [
    "data4 = '안녕하세요' #문자형 데이터 data4 선언\n",
    "print(f'data4를 출력, {data4:}')\n",
    "print(f'data4를 출력, {data4:^20s}') #문자열 정렬\n",
    "print(f'data4를 출력, {data4:>20s}')"
   ]
  }
 ],
 "metadata": {
  "kernelspec": {
   "display_name": "base",
   "language": "python",
   "name": "python3"
  },
  "language_info": {
   "codemirror_mode": {
    "name": "ipython",
    "version": 3
   },
   "file_extension": ".py",
   "mimetype": "text/x-python",
   "name": "python",
   "nbconvert_exporter": "python",
   "pygments_lexer": "ipython3",
   "version": "3.12.9"
  }
 },
 "nbformat": 4,
 "nbformat_minor": 5
}
