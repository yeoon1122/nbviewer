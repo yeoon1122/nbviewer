{
 "cells": [
  {
   "cell_type": "markdown",
   "metadata": {},
   "source": [
    "C531122 신가연"
   ]
  },
  {
   "cell_type": "markdown",
   "metadata": {},
   "source": [
    "함수"
   ]
  },
  {
   "cell_type": "code",
   "execution_count": 40,
   "metadata": {},
   "outputs": [],
   "source": [
    "def calcSumProduct(a,b=10):\n",
    "    plus = a+b\n",
    "    multiple = a*b\n",
    "    \n",
    "    return plus, multiple"
   ]
  },
  {
   "cell_type": "code",
   "execution_count": 41,
   "metadata": {},
   "outputs": [
    {
     "name": "stdout",
     "output_type": "stream",
     "text": [
      "sum = 10, product = 21\n"
     ]
    }
   ],
   "source": [
    "sum, product = calcSumProduct(3,7)\n",
    "\n",
    "print(f'{sum = }, {product = }')"
   ]
  },
  {
   "cell_type": "code",
   "execution_count": 42,
   "metadata": {},
   "outputs": [
    {
     "name": "stdout",
     "output_type": "stream",
     "text": [
      "sum = 13, product = 30\n"
     ]
    }
   ],
   "source": [
    "sum, product = calcSumProduct(3)\n",
    "\n",
    "print(f'{sum = }, {product = }')"
   ]
  },
  {
   "cell_type": "code",
   "execution_count": 43,
   "metadata": {},
   "outputs": [
    {
     "name": "stdout",
     "output_type": "stream",
     "text": [
      "sum = 10, product = 21\n"
     ]
    }
   ],
   "source": [
    "sum, product = calcSumProduct(b=3, a=7)\n",
    "\n",
    "print(f'{sum = }, {product = }')"
   ]
  },
  {
   "cell_type": "markdown",
   "metadata": {},
   "source": [
    "함수 주석"
   ]
  },
  {
   "cell_type": "code",
   "execution_count": 44,
   "metadata": {},
   "outputs": [],
   "source": [
    "def calcSumProduct(a: int, b: int = 10) -> int:\n",
    "    print(f'{a = }, {b = }')\n",
    "    plus = a+b\n",
    "    multiple = a*b\n",
    "    return plus, multiple"
   ]
  },
  {
   "cell_type": "code",
   "execution_count": 45,
   "metadata": {},
   "outputs": [
    {
     "name": "stdout",
     "output_type": "stream",
     "text": [
      "Help on function calcSumProduct in module __main__:\n",
      "\n",
      "calcSumProduct(a: int, b: int = 10) -> int\n",
      "\n"
     ]
    }
   ],
   "source": [
    "help(calcSumProduct)"
   ]
  },
  {
   "cell_type": "markdown",
   "metadata": {},
   "source": [
    "인수의 개수가 정해지지 않은 함수"
   ]
  },
  {
   "cell_type": "markdown",
   "metadata": {},
   "source": [
    "args의 활용"
   ]
  },
  {
   "cell_type": "code",
   "execution_count": 46,
   "metadata": {},
   "outputs": [
    {
     "name": "stdout",
     "output_type": "stream",
     "text": [
      "inputs = (1, 2, 3)\n",
      "sum = 6, product = 6\n",
      "\n",
      "inputs = (1, 2, 3, 4, 5, 6, 7, 8)\n",
      "sum = 36, product = 40320\n"
     ]
    }
   ],
   "source": [
    "import numpy as np\n",
    "\n",
    "def calcSumProduct2(*inputs):\n",
    "    print(f'{inputs = }')\n",
    "\n",
    "    plus = int(np.sum(inputs))\n",
    "    multiple = int(np.prod(inputs))\n",
    "\n",
    "    return plus, multiple\n",
    "\n",
    "sum, product = calcSumProduct2(1,2,3)\n",
    "print(f'{sum = }, {product = }\\n')\n",
    "\n",
    "sum, product = calcSumProduct2(1,2,3,4,5,6,7,8)\n",
    "print(f'{sum = }, {product = }')"
   ]
  },
  {
   "cell_type": "markdown",
   "metadata": {},
   "source": [
    "kwargs의 활용"
   ]
  },
  {
   "cell_type": "code",
   "execution_count": 47,
   "metadata": {},
   "outputs": [
    {
     "name": "stdout",
     "output_type": "stream",
     "text": [
      "inputs = {'a': 1, 'b': 2}\n",
      "sum = 3, product = 2\n",
      "\n",
      "inputs = {'a': 1, 'b': 2, 'c': 3, 'd': 4}\n",
      "sum = 10, product = 24\n",
      "\n"
     ]
    }
   ],
   "source": [
    "import numpy as np\n",
    "\n",
    "def calcSumProduct2(**inputs):\n",
    "    print(f'{inputs = }')\n",
    "\n",
    "    plus = 0\n",
    "    multiple = 1\n",
    "\n",
    "    for _, value in inputs.items():\n",
    "        plus += value\n",
    "        multiple *= value\n",
    "\n",
    "    return plus, multiple\n",
    "\n",
    "sum, product = calcSumProduct2(a=1, b=2)\n",
    "print(f'{sum = }, {product = }\\n') \n",
    "\n",
    "sum, product = calcSumProduct2(a=1, b=2, c=3, d=4)\n",
    "print(f'{sum = }, {product = }\\n') "
   ]
  },
  {
   "cell_type": "markdown",
   "metadata": {},
   "source": [
    "지역변수와 전역변수"
   ]
  },
  {
   "cell_type": "markdown",
   "metadata": {},
   "source": [
    "함수 내에서 전역변수의 사용"
   ]
  },
  {
   "cell_type": "code",
   "execution_count": 48,
   "metadata": {},
   "outputs": [
    {
     "name": "stdout",
     "output_type": "stream",
     "text": [
      "var_global = '전역 변수'\n",
      "var_local = '인자는 지역 변수'\n",
      "var_global = '전역 변수'\n",
      "name 'var_local' is not defined\n"
     ]
    }
   ],
   "source": [
    "var_global = '전역 변수'\n",
    "\n",
    "def useGlobalVariable(var_local):\n",
    "    \n",
    "    print(f'{var_global = }')\n",
    "    print(f'{var_local = }')\n",
    "\n",
    "useGlobalVariable('인자는 지역 변수')\n",
    "print(f'{var_global = }')\n",
    "\n",
    "try:\n",
    "    print(f'{var_local = }')\n",
    "except NameError as e:\n",
    "    print(e)"
   ]
  },
  {
   "cell_type": "markdown",
   "metadata": {},
   "source": [
    "함수 내에서 전역변수의 변경\n",
    "- 함수 내에서 전역변수의 변경은 안 됨. 전역변수가 아닌 지역변수로 생성됨"
   ]
  },
  {
   "cell_type": "code",
   "execution_count": 49,
   "metadata": {},
   "outputs": [
    {
     "name": "stdout",
     "output_type": "stream",
     "text": [
      "var_global = '전역 변수가 아닌 지역변수임'\n",
      "var_local = '인자는 지역 변수'\n",
      "var_global = '전역 변수'\n"
     ]
    }
   ],
   "source": [
    "var_global = '전역 변수'\n",
    "\n",
    "def useGlobalVariable(var_local):\n",
    "\n",
    "    #var_global을 변경하면, 전역변수가 아닌 지역변수로 생성하여 사용됨\n",
    "    #즉, 변수명은 동일하나 서로 다른 변수임\n",
    "    var_global = '전역 변수가 아닌 지역변수임'\n",
    "    print(f'{var_global = }')\n",
    "    print(f'{var_local = }')\n",
    "\n",
    "useGlobalVariable('인자는 지역 변수')\n",
    "print(f'{var_global = }')"
   ]
  },
  {
   "cell_type": "markdown",
   "metadata": {},
   "source": [
    "함수 내에서 전역변수를 변경하는 방법\n",
    "- global 전역변수명 으로 선언해야 함"
   ]
  },
  {
   "cell_type": "code",
   "execution_count": 50,
   "metadata": {},
   "outputs": [
    {
     "name": "stdout",
     "output_type": "stream",
     "text": [
      "var_global = '전역 변수'\n",
      "var_local = '인자는 지역 변수'\n",
      "var_global = '이제는 전역 변수임'\n"
     ]
    }
   ],
   "source": [
    "var_global = '전역 변수'\n",
    "\n",
    "def useGlobalVariable(var_local):\n",
    "\n",
    "    global var_global\n",
    "\n",
    "    print(f'{var_global = }')\n",
    "    print(f'{var_local = }')\n",
    "\n",
    "    var_global = '이제는 전역 변수임'\n",
    "\n",
    "useGlobalVariable('인자는 지역 변수')\n",
    "print(f'{var_global = }')"
   ]
  },
  {
   "cell_type": "markdown",
   "metadata": {},
   "source": [
    "람다 함수"
   ]
  },
  {
   "cell_type": "markdown",
   "metadata": {},
   "source": [
    "일반 함수 정의"
   ]
  },
  {
   "cell_type": "code",
   "execution_count": 51,
   "metadata": {},
   "outputs": [
    {
     "data": {
      "text/plain": [
       "15"
      ]
     },
     "execution_count": 51,
     "metadata": {},
     "output_type": "execute_result"
    }
   ],
   "source": [
    "def addTen(x):\n",
    "    return x+10\n",
    "\n",
    "addTen(5)"
   ]
  },
  {
   "cell_type": "markdown",
   "metadata": {},
   "source": [
    "함수명이 없는 람다함수"
   ]
  },
  {
   "cell_type": "code",
   "execution_count": 52,
   "metadata": {},
   "outputs": [
    {
     "data": {
      "text/plain": [
       "<function __main__.<lambda>(x)>"
      ]
     },
     "execution_count": 52,
     "metadata": {},
     "output_type": "execute_result"
    }
   ],
   "source": [
    "lambda x: x+10"
   ]
  },
  {
   "cell_type": "code",
   "execution_count": 53,
   "metadata": {},
   "outputs": [
    {
     "data": {
      "text/plain": [
       "15"
      ]
     },
     "execution_count": 53,
     "metadata": {},
     "output_type": "execute_result"
    }
   ],
   "source": [
    "(lambda x: x+10)(5)"
   ]
  },
  {
   "cell_type": "markdown",
   "metadata": {},
   "source": [
    "함수명이 있는 람다함수"
   ]
  },
  {
   "cell_type": "code",
   "execution_count": 54,
   "metadata": {},
   "outputs": [
    {
     "data": {
      "text/plain": [
       "15"
      ]
     },
     "execution_count": 54,
     "metadata": {},
     "output_type": "execute_result"
    }
   ],
   "source": [
    "addTen = lambda x: x + 10\n",
    "\n",
    "addTen(5)"
   ]
  },
  {
   "cell_type": "markdown",
   "metadata": {},
   "source": [
    "람다함수 응용"
   ]
  },
  {
   "cell_type": "code",
   "execution_count": 55,
   "metadata": {},
   "outputs": [
    {
     "data": {
      "text/plain": [
       "115"
      ]
     },
     "execution_count": 55,
     "metadata": {},
     "output_type": "execute_result"
    }
   ],
   "source": [
    "y = 100\n",
    "\n",
    "(lambda x: x+y+10)(5)"
   ]
  },
  {
   "cell_type": "markdown",
   "metadata": {},
   "source": [
    "람다함수에 조건부 표현식 사용"
   ]
  },
  {
   "cell_type": "code",
   "execution_count": 56,
   "metadata": {},
   "outputs": [
    {
     "data": {
      "text/plain": [
       "'(3의 배수) 9'"
      ]
     },
     "execution_count": 56,
     "metadata": {},
     "output_type": "execute_result"
    }
   ],
   "source": [
    "(lambda x: '(3의 배수) '+str(x) if x%3==0 else x)(9)\n",
    "\n",
    "#x를 str로 변환한 후에 문자열끼리 더해주기"
   ]
  },
  {
   "cell_type": "code",
   "execution_count": null,
   "metadata": {},
   "outputs": [
    {
     "data": {
      "text/plain": [
       "8"
      ]
     },
     "execution_count": 57,
     "metadata": {},
     "output_type": "execute_result"
    }
   ],
   "source": [
    "(lambda x: '(3의 배수) '+str(x) if x%3==0 else x)(8)             "
   ]
  },
  {
   "cell_type": "code",
   "execution_count": 60,
   "metadata": {},
   "outputs": [
    {
     "data": {
      "text/plain": [
       "'(3의 배수) 9'"
      ]
     },
     "execution_count": 60,
     "metadata": {},
     "output_type": "execute_result"
    }
   ],
   "source": [
    "(lambda x: '(3의 배수) '+str(x) if x%3==0 else float(x) if x%3==1 else x)(9)"
   ]
  },
  {
   "cell_type": "code",
   "execution_count": 59,
   "metadata": {},
   "outputs": [
    {
     "data": {
      "text/plain": [
       "7.0"
      ]
     },
     "execution_count": 59,
     "metadata": {},
     "output_type": "execute_result"
    }
   ],
   "source": [
    "(lambda x: '(3의 배수) '+str(x) if x%3==0 else float(x) if x%3==1 else x)(7)"
   ]
  },
  {
   "cell_type": "code",
   "execution_count": 61,
   "metadata": {},
   "outputs": [
    {
     "data": {
      "text/plain": [
       "5"
      ]
     },
     "execution_count": 61,
     "metadata": {},
     "output_type": "execute_result"
    }
   ],
   "source": [
    "(lambda x: '(3의 배수) '+str(x) if x%3==0 else float(x) if x%3==1 else x)(5)"
   ]
  },
  {
   "cell_type": "markdown",
   "metadata": {},
   "source": [
    "람다함수에 인자 여러개 넣기"
   ]
  },
  {
   "cell_type": "code",
   "execution_count": 62,
   "metadata": {},
   "outputs": [
    {
     "data": {
      "text/plain": [
       "3"
      ]
     },
     "execution_count": 62,
     "metadata": {},
     "output_type": "execute_result"
    }
   ],
   "source": [
    "(lambda x,y: x if x%3==0 else x+y)(3,4)"
   ]
  },
  {
   "cell_type": "code",
   "execution_count": 63,
   "metadata": {},
   "outputs": [
    {
     "data": {
      "text/plain": [
       "6"
      ]
     },
     "execution_count": 63,
     "metadata": {},
     "output_type": "execute_result"
    }
   ],
   "source": [
    "(lambda x,y: x if x%3==0 else x+y)(2,4)"
   ]
  },
  {
   "cell_type": "markdown",
   "metadata": {},
   "source": [
    "람다함수의 활용"
   ]
  },
  {
   "cell_type": "markdown",
   "metadata": {},
   "source": [
    "map 함수에 적용\n",
    "- map(함수명, iterable 객체)"
   ]
  },
  {
   "cell_type": "code",
   "execution_count": 64,
   "metadata": {},
   "outputs": [
    {
     "data": {
      "text/plain": [
       "[11, 12, 13]"
      ]
     },
     "execution_count": 64,
     "metadata": {},
     "output_type": "execute_result"
    }
   ],
   "source": [
    "list(map(lambda x: x+10, [1,2,3]))"
   ]
  },
  {
   "cell_type": "code",
   "execution_count": 68,
   "metadata": {},
   "outputs": [
    {
     "data": {
      "text/plain": [
       "['(3의 배수) 0', 1, 2, '(3의 배수) 3', 4, 5, '(3의 배수) 6', 7, 8, '(3의 배수) 9']"
      ]
     },
     "execution_count": 68,
     "metadata": {},
     "output_type": "execute_result"
    }
   ],
   "source": [
    "ldMultiple3 = lambda x: '(3의 배수) '+str(x) if x%3==0 else x\n",
    "list(map(ldMultiple3, range(10)))"
   ]
  },
  {
   "cell_type": "code",
   "execution_count": 74,
   "metadata": {},
   "outputs": [
    {
     "data": {
      "text/plain": [
       "['(3의 배수) 0', 1.0, 2, '(3의 배수) 3', 4.0, 5, '(3의 배수) 6', 7.0, 8, '(3의 배수) 9']"
      ]
     },
     "execution_count": 74,
     "metadata": {},
     "output_type": "execute_result"
    }
   ],
   "source": [
    "ldMultiple3f = lambda x: '(3의 배수) '+str(x) if x%3==0 else float(x) if x%3==1 else x\n",
    "list(map(ldMultiple3f, range(10)))"
   ]
  },
  {
   "cell_type": "code",
   "execution_count": 77,
   "metadata": {},
   "outputs": [
    {
     "data": {
      "text/plain": [
       "[0, 101, 102, 3, 104, 105, 6, 107, 108, 9]"
      ]
     },
     "execution_count": 77,
     "metadata": {},
     "output_type": "execute_result"
    }
   ],
   "source": [
    "ldMultiple3a = lambda x, y: x if x%3==0 else x+y\n",
    "list(map(ldMultiple3a, range(10), [100]*10))"
   ]
  },
  {
   "cell_type": "markdown",
   "metadata": {},
   "source": [
    "강의록을 기반으로 추가 학습한 내용"
   ]
  },
  {
   "cell_type": "code",
   "execution_count": 83,
   "metadata": {},
   "outputs": [
    {
     "name": "stdout",
     "output_type": "stream",
     "text": [
      "6는 짝수입니다.\n"
     ]
    }
   ],
   "source": [
    "x = int(input()) #input()으로 숫자를 받아 정수형으로 변환\n",
    "\n",
    "#홀짝을 구분하는 함수 설정\n",
    "def f(x):\n",
    "    if x%2==0:\n",
    "        value = str(x)+'는 짝수입니다.'\n",
    "    else:\n",
    "        value = str(x)+'는 홀수입니다.'\n",
    "    \n",
    "    return value\n",
    "\n",
    "print(f(x))"
   ]
  },
  {
   "cell_type": "code",
   "execution_count": 93,
   "metadata": {},
   "outputs": [
    {
     "name": "stdout",
     "output_type": "stream",
     "text": [
      "9999\n"
     ]
    }
   ],
   "source": [
    "x, y = input().split() \n",
    "#input 함수에서 2가지 변수를 받기 위해 .split() 사용\n",
    "\n",
    "#입력받은 x, y 중 더 큰 값을 반환하는 함수 설정\n",
    "def f(x, y):\n",
    "    if x>y:\n",
    "        value = x\n",
    "    else:\n",
    "        value = y\n",
    "\n",
    "    return value\n",
    "\n",
    "print(f(x, y))"
   ]
  }
 ],
 "metadata": {
  "kernelspec": {
   "display_name": "Python 3",
   "language": "python",
   "name": "python3"
  },
  "language_info": {
   "codemirror_mode": {
    "name": "ipython",
    "version": 3
   },
   "file_extension": ".py",
   "mimetype": "text/x-python",
   "name": "python",
   "nbconvert_exporter": "python",
   "pygments_lexer": "ipython3",
   "version": "3.13.3"
  }
 },
 "nbformat": 4,
 "nbformat_minor": 2
}
