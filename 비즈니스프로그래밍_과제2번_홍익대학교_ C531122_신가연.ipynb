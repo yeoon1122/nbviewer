{
 "cells": [
  {
   "cell_type": "markdown",
   "metadata": {},
   "source": [
    "제어문\n",
    "- 분기문 : 조건에 따라 (if, if-else, if-elif-else)\n",
    "- 반복문 : 코드를 반복적으로 실행 (for, while)\n",
    "- 예외처리문 : 코드 실행 중에 발생하는 예외 처리 (try-except)"
   ]
  },
  {
   "cell_type": "markdown",
   "metadata": {},
   "source": [
    "분기문"
   ]
  },
  {
   "cell_type": "code",
   "execution_count": 14,
   "metadata": {},
   "outputs": [
    {
     "name": "stdout",
     "output_type": "stream",
     "text": [
      "조건이 참입니다.\n",
      "조건문이 종료되었습니다.\n"
     ]
    }
   ],
   "source": [
    "if True:\n",
    "    print('조건이 참입니다.')\n",
    "\n",
    "print('조건문이 종료되었습니다.')"
   ]
  },
  {
   "cell_type": "code",
   "execution_count": 15,
   "metadata": {},
   "outputs": [
    {
     "name": "stdout",
     "output_type": "stream",
     "text": [
      "조건문이 종료되었습니다.\n"
     ]
    }
   ],
   "source": [
    "if False:\n",
    "    print('조건이 참입니다.')\n",
    "\n",
    "print('조건문이 종료되었습니다.')"
   ]
  },
  {
   "cell_type": "markdown",
   "metadata": {},
   "source": [
    "if문"
   ]
  },
  {
   "cell_type": "code",
   "execution_count": 27,
   "metadata": {},
   "outputs": [
    {
     "name": "stdout",
     "output_type": "stream",
     "text": [
      "걸어간다.\n"
     ]
    }
   ],
   "source": [
    "money = 100\n",
    "\n",
    "if money <= 500:\n",
    "    print('걸어간다.')"
   ]
  },
  {
   "cell_type": "markdown",
   "metadata": {},
   "source": [
    "if-else문"
   ]
  },
  {
   "cell_type": "code",
   "execution_count": 29,
   "metadata": {},
   "outputs": [
    {
     "name": "stdout",
     "output_type": "stream",
     "text": [
      "택시탄다.\n"
     ]
    }
   ],
   "source": [
    "money = 1000\n",
    "\n",
    "if money <= 500:\n",
    "    print('걸어간다.')\n",
    "else:\n",
    "    print('택시탄다.')"
   ]
  },
  {
   "cell_type": "markdown",
   "metadata": {},
   "source": [
    "if-elif-else 문"
   ]
  },
  {
   "cell_type": "code",
   "execution_count": 30,
   "metadata": {},
   "outputs": [
    {
     "name": "stdout",
     "output_type": "stream",
     "text": [
      "버스탄다.\n"
     ]
    }
   ],
   "source": [
    "money = 1000\n",
    "\n",
    "if money <= 500:\n",
    "    print('걸어간다.')\n",
    "elif money <= 2500:\n",
    "    print('버스탄다.')\n",
    "else:\n",
    "    print('택시탄다.')"
   ]
  },
  {
   "cell_type": "markdown",
   "metadata": {},
   "source": [
    "반복문"
   ]
  },
  {
   "cell_type": "markdown",
   "metadata": {},
   "source": [
    "while 문\n",
    "-> while 뒤 조건이 true인 동안 코드블럭 반복수행"
   ]
  },
  {
   "cell_type": "code",
   "execution_count": 17,
   "metadata": {},
   "outputs": [
    {
     "name": "stdout",
     "output_type": "stream",
     "text": [
      "n= 1\n",
      "n= 2\n",
      "n= 3\n",
      "n= 4\n",
      "n= 5\n"
     ]
    }
   ],
   "source": [
    "n = 0\n",
    "\n",
    "while n < 5:\n",
    "    n = n+1         #들여쓰기로 while 문장의 범위를 지정\n",
    "    print ('n=', n)"
   ]
  },
  {
   "cell_type": "markdown",
   "metadata": {},
   "source": [
    "for 문\n",
    " : for 뒤의 iterable한 객체의 원소를 순차적으로 가져와서 코드블럭을 반복수행"
   ]
  },
  {
   "cell_type": "code",
   "execution_count": 18,
   "metadata": {},
   "outputs": [
    {
     "name": "stdout",
     "output_type": "stream",
     "text": [
      "n= 0\n",
      "n= 1\n",
      "n= 2\n",
      "n= 3\n",
      "n= 4\n",
      "n= 5\n"
     ]
    }
   ],
   "source": [
    "for n in range(0,6):\n",
    "    print('n=', n)"
   ]
  },
  {
   "cell_type": "code",
   "execution_count": 31,
   "metadata": {},
   "outputs": [
    {
     "name": "stdout",
     "output_type": "stream",
     "text": [
      "item = 1\n",
      "item = 2\n",
      "item = 3\n",
      "item = 4\n",
      "item = 5\n"
     ]
    }
   ],
   "source": [
    "x_list = [1, 2, 3, 4, 5]\n",
    "\n",
    "for item in x_list:\n",
    "    print(f'{item = }')"
   ]
  },
  {
   "cell_type": "code",
   "execution_count": 32,
   "metadata": {},
   "outputs": [
    {
     "name": "stdout",
     "output_type": "stream",
     "text": [
      "<built-in function len>(x) = 5\n",
      "<built-in function max>(x) = 50\n",
      "<built-in function sum>(x) = 150\n"
     ]
    }
   ],
   "source": [
    "x = [10,20,30,40,50]\n",
    "\n",
    "for method in [len, max, sum]:\n",
    "    print(f'{method}(x) = {method(x)}')"
   ]
  },
  {
   "cell_type": "markdown",
   "metadata": {},
   "source": [
    "enumerate() 함수를 이용한 for문\n",
    " : for문에서 인덱스와 값을 동시에 추출하여 사용하고자 할 때 사용 -> 인덱스와 리스트의 튜플 생성"
   ]
  },
  {
   "cell_type": "code",
   "execution_count": 19,
   "metadata": {},
   "outputs": [
    {
     "name": "stdout",
     "output_type": "stream",
     "text": [
      "item = (0, 'a')\n",
      "item = (1, 'b')\n",
      "item = (2, 'c')\n",
      "item = (3, 'd')\n",
      "item = (4, 'e')\n"
     ]
    }
   ],
   "source": [
    "for item in enumerate(['a', 'b', 'c', 'd', 'e']):\n",
    "    print(f'{item = }')"
   ]
  },
  {
   "cell_type": "code",
   "execution_count": 20,
   "metadata": {},
   "outputs": [
    {
     "name": "stdout",
     "output_type": "stream",
     "text": [
      "i = 0, item = 'a'\n",
      "i = 1, item = 'b'\n",
      "i = 2, item = 'c'\n",
      "i = 3, item = 'd'\n",
      "i = 4, item = 'e'\n"
     ]
    }
   ],
   "source": [
    "for i, item in enumerate(['a', 'b', 'c', 'd', 'e']):\n",
    "    print(f'{i = }, {item = }')"
   ]
  },
  {
   "cell_type": "markdown",
   "metadata": {},
   "source": [
    "zip() 함수를 이용한 for문\n",
    " -> iterable한 객체를 인덱스별로 묶어서 가져오기\n",
    " -> zip 객체는 for문에서 하나씩 불러오거나 리스트로 변환하여 사용 가능"
   ]
  },
  {
   "cell_type": "code",
   "execution_count": 21,
   "metadata": {},
   "outputs": [
    {
     "data": {
      "text/plain": [
       "<zip at 0x2338af98080>"
      ]
     },
     "execution_count": 21,
     "metadata": {},
     "output_type": "execute_result"
    }
   ],
   "source": [
    "x_list = [1, 2, 3, 4, 5]\n",
    "y_tuple = ('a', 'b', 'c', 'd', 'e')\n",
    "z_str = 'ABCDE'\n",
    "\n",
    "zip(x_list, y_tuple, z_str)"
   ]
  },
  {
   "cell_type": "code",
   "execution_count": null,
   "metadata": {},
   "outputs": [
    {
     "data": {
      "text/plain": [
       "[(1, 'a', 'A'), (2, 'b', 'B'), (3, 'c', 'C'), (4, 'd', 'D'), (5, 'e', 'E')]"
      ]
     },
     "execution_count": 22,
     "metadata": {},
     "output_type": "execute_result"
    }
   ],
   "source": [
    "list(zip(x_list, y_tuple, z_str))"
   ]
  },
  {
   "cell_type": "code",
   "execution_count": 33,
   "metadata": {},
   "outputs": [
    {
     "name": "stdout",
     "output_type": "stream",
     "text": [
      "x= 1, y= 'a', z = 'A'\n",
      "x= 2, y= 'b', z = 'B'\n",
      "x= 3, y= 'c', z = 'C'\n",
      "x= 4, y= 'd', z = 'D'\n",
      "x= 5, y= 'e', z = 'E'\n"
     ]
    }
   ],
   "source": [
    "for x, y, z in zip(x_list, y_tuple, z_str):\n",
    "    print(f'{x= }, {y= }, {z = }')"
   ]
  },
  {
   "cell_type": "code",
   "execution_count": 36,
   "metadata": {},
   "outputs": [
    {
     "name": "stdout",
     "output_type": "stream",
     "text": [
      "i = 0, x= 1, y= 'a', z = 'A'\n",
      "i = 1, x= 2, y= 'b', z = 'B'\n",
      "i = 2, x= 3, y= 'c', z = 'C'\n",
      "i = 3, x= 4, y= 'd', z = 'D'\n",
      "i = 4, x= 5, y= 'e', z = 'E'\n"
     ]
    }
   ],
   "source": [
    "for i, (x, y, z)in enumerate(zip(x_list, y_tuple, z_str)):\n",
    "    print(f'{i = }, {x= }, {y= }, {z = }')"
   ]
  },
  {
   "cell_type": "markdown",
   "metadata": {},
   "source": [
    "break, continue, pass, exit로 제어문 통제하기\n",
    " - break : 반복문 종료, 다음 코드\n",
    " - continue : 나머지 코드 건너뛰고 다음 코드\n",
    " - pass : 아무것도 안 하고 다음 코드 (if문이나 함수에 아무것도 작성이 안되어있으면 에러가 발생하므로 사용)\n",
    " - exit : 프로그램 종료\n",
    "    exit(0)은 정상종료 / exit(1)은 비정상종료"
   ]
  },
  {
   "cell_type": "code",
   "execution_count": 37,
   "metadata": {},
   "outputs": [
    {
     "name": "stdout",
     "output_type": "stream",
     "text": [
      "i = 0, item = 'a'\n",
      "i = 1, item = 'b'\n"
     ]
    }
   ],
   "source": [
    "for i, item in enumerate(['a', 'b', 'c', 'd', 'e']):\n",
    "    if i == 2:\n",
    "        break \n",
    "\n",
    "    print(f'{i = }, {item = }')"
   ]
  },
  {
   "cell_type": "code",
   "execution_count": 38,
   "metadata": {},
   "outputs": [
    {
     "name": "stdout",
     "output_type": "stream",
     "text": [
      "i = 0, item = 'a'\n",
      "i = 1, item = 'b'\n",
      "i = 3, item = 'd'\n",
      "i = 4, item = 'e'\n"
     ]
    }
   ],
   "source": [
    "for i, item in enumerate(['a', 'b', 'c', 'd', 'e']):\n",
    "    if i == 2:\n",
    "        continue     \n",
    "\n",
    "    print(f'{i = }, {item = }')"
   ]
  },
  {
   "cell_type": "code",
   "execution_count": 39,
   "metadata": {},
   "outputs": [
    {
     "name": "stdout",
     "output_type": "stream",
     "text": [
      "i = 0, item = 'a'\n",
      "i = 1, item = 'b'\n",
      "i = 2, item = 'c'\n",
      "i = 3, item = 'd'\n",
      "i = 4, item = 'e'\n"
     ]
    }
   ],
   "source": [
    "for i, item in enumerate(['a', 'b', 'c', 'd', 'e']):\n",
    "    if i == 2:\n",
    "        pass    \n",
    "\n",
    "    print(f'{i = }, {item = }')"
   ]
  },
  {
   "cell_type": "code",
   "execution_count": null,
   "metadata": {},
   "outputs": [
    {
     "ename": "IndentationError",
     "evalue": "expected an indented block after 'if' statement on line 2 (2051800798.py, line 5)",
     "output_type": "error",
     "traceback": [
      "  \u001b[36mCell\u001b[39m\u001b[36m \u001b[39m\u001b[32mIn[41]\u001b[39m\u001b[32m, line 5\u001b[39m\n\u001b[31m    \u001b[39m\u001b[31mprint(f'{i = }, {item = }')\u001b[39m\n    ^\n\u001b[31mIndentationError\u001b[39m\u001b[31m:\u001b[39m expected an indented block after 'if' statement on line 2\n"
     ]
    }
   ],
   "source": [
    "for i, item in enumerate(['a', 'b', 'c', 'd', 'e']):\n",
    "    if i == 2:\n",
    "        #exit(0)        #shutdown, 커널이 꺼지기 전에 for문 실행  #주석처리\n",
    "\n",
    "    print(f'{i = }, {item = }')"
   ]
  },
  {
   "cell_type": "markdown",
   "metadata": {},
   "source": [
    "중첩 제어문"
   ]
  },
  {
   "cell_type": "code",
   "execution_count": null,
   "metadata": {},
   "outputs": [
    {
     "name": "stdout",
     "output_type": "stream",
     "text": [
      "1*1= 1\t2*1= 2\t3*1= 3\t4*1= 4\t5*1= 5\t6*1= 6\t7*1= 7\t8*1= 8\t9*1= 9\t\n",
      "1*2= 2\t2*2= 4\t3*2= 6\t4*2= 8\t5*2=10\t6*2=12\t7*2=14\t8*2=16\t9*2=18\t\n",
      "1*3= 3\t2*3= 6\t3*3= 9\t4*3=12\t5*3=15\t6*3=18\t7*3=21\t8*3=24\t9*3=27\t\n",
      "1*4= 4\t2*4= 8\t3*4=12\t4*4=16\t5*4=20\t6*4=24\t7*4=28\t8*4=32\t9*4=36\t\n",
      "1*5= 5\t2*5=10\t3*5=15\t4*5=20\t5*5=25\t6*5=30\t7*5=35\t8*5=40\t9*5=45\t\n",
      "1*6= 6\t2*6=12\t3*6=18\t4*6=24\t5*6=30\t6*6=36\t7*6=42\t8*6=48\t9*6=54\t\n",
      "1*7= 7\t2*7=14\t3*7=21\t4*7=28\t5*7=35\t6*7=42\t7*7=49\t8*7=56\t9*7=63\t\n",
      "1*8= 8\t2*8=16\t3*8=24\t4*8=32\t5*8=40\t6*8=48\t7*8=56\t8*8=64\t9*8=72\t\n",
      "1*9= 9\t2*9=18\t3*9=27\t4*9=36\t5*9=45\t6*9=54\t7*9=63\t8*9=72\t9*9=81\t\n"
     ]
    }
   ],
   "source": [
    "for i in range(1, 10):\n",
    "\n",
    "    for j in range(1, 10):\n",
    "        print(f'{j}*{i}={j*i:>2d}', end='\\t')\n",
    "        if j == 9:\n",
    "\n",
    "            print()"
   ]
  },
  {
   "cell_type": "markdown",
   "metadata": {},
   "source": [
    "-----------------------------------------------"
   ]
  },
  {
   "cell_type": "markdown",
   "metadata": {},
   "source": [
    "강의록을 바탕으로 추가 학습"
   ]
  },
  {
   "cell_type": "code",
   "execution_count": 47,
   "metadata": {},
   "outputs": [
    {
     "name": "stdout",
     "output_type": "stream",
     "text": [
      "새내기\n"
     ]
    }
   ],
   "source": [
    "학년 = 1\n",
    "\n",
    "if 학년 <=1:\n",
    "    print('새내기')\n",
    "elif 학년 <=2:\n",
    "    print('헌내기')"
   ]
  },
  {
   "cell_type": "code",
   "execution_count": 48,
   "metadata": {},
   "outputs": [
    {
     "data": {
      "text/plain": [
       "2"
      ]
     },
     "execution_count": 48,
     "metadata": {},
     "output_type": "execute_result"
    }
   ],
   "source": [
    "(b, c) = (1, 2)\n",
    "\n",
    "c                   #c = 2"
   ]
  },
  {
   "cell_type": "code",
   "execution_count": null,
   "metadata": {},
   "outputs": [
    {
     "ename": "SyntaxError",
     "evalue": "cannot assign to literal (2091838378.py, line 1)",
     "output_type": "error",
     "traceback": [
      "\u001b[1;36m  Cell \u001b[1;32mIn[32], line 1\u001b[1;36m\u001b[0m\n\u001b[1;33m    ('이름', '나이', '성별') = ('홍길동', 29, '남')    #error, 이건 변수가 아니라 문자열 튜플\u001b[0m\n\u001b[1;37m     ^\u001b[0m\n\u001b[1;31mSyntaxError\u001b[0m\u001b[1;31m:\u001b[0m cannot assign to literal\n"
     ]
    }
   ],
   "source": [
    "('이름', '나이', '성별') = ('홍길동', 29, '남')    #error, 이건 변수가 아니라 문자열 튜플"
   ]
  },
  {
   "cell_type": "code",
   "execution_count": null,
   "metadata": {},
   "outputs": [
    {
     "data": {
      "text/plain": [
       "29"
      ]
     },
     "execution_count": 23,
     "metadata": {},
     "output_type": "execute_result"
    }
   ],
   "source": [
    "이름, 나이, 성별= ('홍길동', 29, '남')\n",
    "\n",
    "나이"
   ]
  },
  {
   "cell_type": "code",
   "execution_count": null,
   "metadata": {},
   "outputs": [
    {
     "ename": "ValueError",
     "evalue": "not enough values to unpack (expected 3, got 2)",
     "output_type": "error",
     "traceback": [
      "\u001b[1;31m---------------------------------------------------------------------------\u001b[0m",
      "\u001b[1;31mValueError\u001b[0m                                Traceback (most recent call last)",
      "Cell \u001b[1;32mIn[21], line 1\u001b[0m\n\u001b[1;32m----> 1\u001b[0m 이름, 나이, 성별\u001b[38;5;241m=\u001b[39m (\u001b[38;5;124m'\u001b[39m\u001b[38;5;124m홍길동\u001b[39m\u001b[38;5;124m'\u001b[39m, \u001b[38;5;241m29\u001b[39m)\n",
      "\u001b[1;31mValueError\u001b[0m: not enough values to unpack (expected 3, got 2)"
     ]
    }
   ],
   "source": [
    "이름, 나이, 성별= ('홍길동', 29)    #원소의 갯수가 맞지 않음"
   ]
  },
  {
   "cell_type": "code",
   "execution_count": 49,
   "metadata": {},
   "outputs": [
    {
     "data": {
      "text/plain": [
       "[(1, 'a', 'A'), (2, 'b', 'B'), (3, 'c', 'C'), (4, 'd', 'D'), (5, 'e', 'E')]"
      ]
     },
     "execution_count": 49,
     "metadata": {},
     "output_type": "execute_result"
    }
   ],
   "source": [
    "list(zip(x_list, y_tuple, z_str))  #x_list의 원소가 3개이므로 3개만 출력"
   ]
  },
  {
   "cell_type": "code",
   "execution_count": 50,
   "metadata": {},
   "outputs": [
    {
     "name": "stdout",
     "output_type": "stream",
     "text": [
      "i = 0, item = 'a'\n",
      "i = 1, item = 'b'\n"
     ]
    }
   ],
   "source": [
    "for i, item in enumerate(['a', 'b', 'c', 'd', 'e']):\n",
    "    if i == 2:\n",
    "        break \n",
    "        print('실행을 종료합니다.')     #break 뒤의 함수는 실행되지 않음\n",
    "\n",
    "    print(f'{i = }, {item = }')"
   ]
  },
  {
   "cell_type": "code",
   "execution_count": 42,
   "metadata": {},
   "outputs": [
    {
     "name": "stdout",
     "output_type": "stream",
     "text": [
      "2*2=   4\t4*2=   8\t6*2=  12\t8*2=  16\t10*2=  20\t12*2=  24\t14*2=  28\t16*2=  32\t18*2=  36\t20*2=  40\t\n",
      "2*4=   8\t4*4=  16\t6*4=  24\t8*4=  32\t10*4=  40\t12*4=  48\t14*4=  56\t16*4=  64\t18*4=  72\t20*4=  80\t\n",
      "2*6=  12\t4*6=  24\t6*6=  36\t8*6=  48\t10*6=  60\t12*6=  72\t14*6=  84\t16*6=  96\t18*6= 108\t20*6= 120\t\n",
      "2*8=  16\t4*8=  32\t6*8=  48\t8*8=  64\t10*8=  80\t12*8=  96\t14*8= 112\t16*8= 128\t18*8= 144\t20*8= 160\t\n",
      "2*10=  20\t4*10=  40\t6*10=  60\t8*10=  80\t10*10= 100\t12*10= 120\t14*10= 140\t16*10= 160\t18*10= 180\t20*10= 200\t\n",
      "2*12=  24\t4*12=  48\t6*12=  72\t8*12=  96\t10*12= 120\t12*12= 144\t14*12= 168\t16*12= 192\t18*12= 216\t20*12= 240\t\n",
      "2*14=  28\t4*14=  56\t6*14=  84\t8*14= 112\t10*14= 140\t12*14= 168\t14*14= 196\t16*14= 224\t18*14= 252\t20*14= 280\t\n",
      "2*16=  32\t4*16=  64\t6*16=  96\t8*16= 128\t10*16= 160\t12*16= 192\t14*16= 224\t16*16= 256\t18*16= 288\t20*16= 320\t\n",
      "2*18=  36\t4*18=  72\t6*18= 108\t8*18= 144\t10*18= 180\t12*18= 216\t14*18= 252\t16*18= 288\t18*18= 324\t20*18= 360\t\n",
      "2*20=  40\t4*20=  80\t6*20= 120\t8*20= 160\t10*20= 200\t12*20= 240\t14*20= 280\t16*20= 320\t18*20= 360\t20*20= 400\t\n"
     ]
    }
   ],
   "source": [
    "for i in range(2, 21, 2):\n",
    "\n",
    "    for j in range(2, 21, 2):\n",
    "        print(f'{j}*{i}={j*i:>4d}', end='\\t')\n",
    "        if j == 20:\n",
    "\n",
    "            print()    "
   ]
  },
  {
   "cell_type": "code",
   "execution_count": null,
   "metadata": {},
   "outputs": [
    {
     "name": "stdout",
     "output_type": "stream",
     "text": [
      "20*20= 400\t18*20= 360\t16*20= 320\t14*20= 280\t12*20= 240\t10*20= 200\t 8*20= 160\t 6*20= 120\t 4*20=  80\t 2*20=  40\t\n",
      "20*18= 360\t18*18= 324\t16*18= 288\t14*18= 252\t12*18= 216\t10*18= 180\t 8*18= 144\t 6*18= 108\t 4*18=  72\t 2*18=  36\t\n",
      "20*16= 320\t18*16= 288\t16*16= 256\t14*16= 224\t12*16= 192\t10*16= 160\t 8*16= 128\t 6*16=  96\t 4*16=  64\t 2*16=  32\t\n",
      "20*14= 280\t18*14= 252\t16*14= 224\t14*14= 196\t12*14= 168\t10*14= 140\t 8*14= 112\t 6*14=  84\t 4*14=  56\t 2*14=  28\t\n",
      "20*12= 240\t18*12= 216\t16*12= 192\t14*12= 168\t12*12= 144\t10*12= 120\t 8*12=  96\t 6*12=  72\t 4*12=  48\t 2*12=  24\t\n",
      "20*10= 200\t18*10= 180\t16*10= 160\t14*10= 140\t12*10= 120\t10*10= 100\t 8*10=  80\t 6*10=  60\t 4*10=  40\t 2*10=  20\t\n",
      "20* 8= 160\t18* 8= 144\t16* 8= 128\t14* 8= 112\t12* 8=  96\t10* 8=  80\t 8* 8=  64\t 6* 8=  48\t 4* 8=  32\t 2* 8=  16\t\n",
      "20* 6= 120\t18* 6= 108\t16* 6=  96\t14* 6=  84\t12* 6=  72\t10* 6=  60\t 8* 6=  48\t 6* 6=  36\t 4* 6=  24\t 2* 6=  12\t\n",
      "20* 4=  80\t18* 4=  72\t16* 4=  64\t14* 4=  56\t12* 4=  48\t10* 4=  40\t 8* 4=  32\t 6* 4=  24\t 4* 4=  16\t 2* 4=   8\t\n",
      "20* 2=  40\t18* 2=  36\t16* 2=  32\t14* 2=  28\t12* 2=  24\t10* 2=  20\t 8* 2=  16\t 6* 2=  12\t 4* 2=   8\t 2* 2=   4\t\n"
     ]
    }
   ],
   "source": [
    "for i in range(20, 1, -2):\n",
    "\n",
    "    for j in range(20, 1, -2):\n",
    "        print(f'{j:>2d}*{i:>2d}={j*i:>4d}', end='\\t') #20부터 2까지 2씩 띄워서 출력 + 줄맞춤\n",
    "        if j == 2:                                    #2를 만나면 enter\n",
    "\n",
    "            print()"
   ]
  }
 ],
 "metadata": {
  "kernelspec": {
   "display_name": "base",
   "language": "python",
   "name": "python3"
  },
  "language_info": {
   "codemirror_mode": {
    "name": "ipython",
    "version": 3
   },
   "file_extension": ".py",
   "mimetype": "text/x-python",
   "name": "python",
   "nbconvert_exporter": "python",
   "pygments_lexer": "ipython3",
   "version": "3.12.9"
  }
 },
 "nbformat": 4,
 "nbformat_minor": 2
}
