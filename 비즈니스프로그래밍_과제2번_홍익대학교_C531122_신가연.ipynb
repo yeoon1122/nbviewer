{
 "cells": [
  {
   "cell_type": "markdown",
   "id": "ee19e229",
   "metadata": {},
   "source": [
    "C531122 신가연"
   ]
  },
  {
   "cell_type": "markdown",
   "id": "83f89f94",
   "metadata": {},
   "source": [
    "데이터 유형\n",
    "- 숫자\n",
    "- 문자열   (String)\n",
    "- 리스트   (List)\n",
    "- 튜플     (Tuple)\n",
    "- 딕셔너리 (Dictionary)\n",
    "- 집합     (Set)\n",
    "- 불린     (Boolean)\n",
    "- None"
   ]
  },
  {
   "cell_type": "markdown",
   "id": "2e589e1b",
   "metadata": {},
   "source": [
    "데이터 유형의 확인"
   ]
  },
  {
   "cell_type": "code",
   "execution_count": 22,
   "id": "bc42b1d8",
   "metadata": {},
   "outputs": [
    {
     "name": "stdout",
     "output_type": "stream",
     "text": [
      "x_value = 12345\n",
      "type(x_value)= <class 'int'>\n"
     ]
    }
   ],
   "source": [
    "x_value = 12345\n",
    "\n",
    "print(f'{x_value = }\\n{type(x_value)= }')"
   ]
  },
  {
   "cell_type": "code",
   "execution_count": 23,
   "id": "b878cc25",
   "metadata": {},
   "outputs": [
    {
     "name": "stdout",
     "output_type": "stream",
     "text": [
      "x_str = 'abcde'\n",
      "type(x_str) = <class 'str'>\n"
     ]
    }
   ],
   "source": [
    "x_str = 'abcde'\n",
    "\n",
    "print(f'{x_str = }\\n{type(x_str) = }')"
   ]
  },
  {
   "cell_type": "code",
   "execution_count": 24,
   "id": "ff32de35",
   "metadata": {},
   "outputs": [
    {
     "name": "stdout",
     "output_type": "stream",
     "text": [
      "x_list = ['abcde', 12345]\n",
      "type(x_list) = <class 'list'>\n"
     ]
    }
   ],
   "source": [
    "x_list = [x_str, x_value]\n",
    "\n",
    "print(f'{x_list = }\\n{type(x_list) = }')"
   ]
  },
  {
   "cell_type": "code",
   "execution_count": 25,
   "id": "aaf86fcf",
   "metadata": {},
   "outputs": [
    {
     "name": "stdout",
     "output_type": "stream",
     "text": [
      "x_tuple = ('abcde', 12345)\n",
      "type(x_tuple) = <class 'tuple'>\n"
     ]
    }
   ],
   "source": [
    "x_tuple = (x_str, x_value)\n",
    "\n",
    "print(f'{x_tuple = }\\n{type(x_tuple) = }')"
   ]
  },
  {
   "cell_type": "code",
   "execution_count": 26,
   "id": "dadc5dea",
   "metadata": {},
   "outputs": [
    {
     "name": "stdout",
     "output_type": "stream",
     "text": [
      "x_dict = {'name': 'Chunghun Ha', 'id': 67890}\n",
      "type(x_dict) = <class 'dict'>\n"
     ]
    }
   ],
   "source": [
    "x_dict = {'name': 'Chunghun Ha', 'id':67890}\n",
    "\n",
    "print(f'{x_dict = }\\n{type(x_dict) = }')"
   ]
  },
  {
   "cell_type": "code",
   "execution_count": 27,
   "id": "0d9ef72f",
   "metadata": {},
   "outputs": [
    {
     "name": "stdout",
     "output_type": "stream",
     "text": [
      "x_none = None\n",
      "type(x_none) = <class 'NoneType'>\n"
     ]
    }
   ],
   "source": [
    "x_none = None\n",
    "\n",
    "print(f'{x_none = }\\n{type(x_none) = }')"
   ]
  },
  {
   "cell_type": "markdown",
   "id": "0d0e7681",
   "metadata": {},
   "source": [
    "변수는 객체"
   ]
  },
  {
   "cell_type": "code",
   "execution_count": 28,
   "id": "4e2e0809",
   "metadata": {},
   "outputs": [
    {
     "name": "stdout",
     "output_type": "stream",
     "text": [
      "['__abs__', '__add__', '__and__', '__bool__', '__ceil__', '__class__', '__delattr__', '__dir__', '__divmod__', '__doc__', '__eq__', '__float__', '__floor__', '__floordiv__', '__format__', '__ge__', '__getattribute__', '__getnewargs__', '__getstate__', '__gt__', '__hash__', '__index__', '__init__', '__init_subclass__', '__int__', '__invert__', '__le__', '__lshift__', '__lt__', '__mod__', '__mul__', '__ne__', '__neg__', '__new__', '__or__', '__pos__', '__pow__', '__radd__', '__rand__', '__rdivmod__', '__reduce__', '__reduce_ex__', '__repr__', '__rfloordiv__', '__rlshift__', '__rmod__', '__rmul__', '__ror__', '__round__', '__rpow__', '__rrshift__', '__rshift__', '__rsub__', '__rtruediv__', '__rxor__', '__setattr__', '__sizeof__', '__str__', '__sub__', '__subclasshook__', '__truediv__', '__trunc__', '__xor__', 'as_integer_ratio', 'bit_count', 'bit_length', 'conjugate', 'denominator', 'from_bytes', 'imag', 'is_integer', 'numerator', 'real', 'to_bytes']\n"
     ]
    }
   ],
   "source": [
    "print(dir(x_value))"
   ]
  },
  {
   "cell_type": "code",
   "execution_count": 29,
   "id": "466a4781",
   "metadata": {},
   "outputs": [
    {
     "name": "stdout",
     "output_type": "stream",
     "text": [
      "x_value.real = 12345\n",
      "x_value.bit_length() = 14\n"
     ]
    }
   ],
   "source": [
    "print(f'{x_value.real = }')\n",
    "\n",
    "print(f'{x_value.bit_length() = }') #x_value의 비트 수를 계산"
   ]
  },
  {
   "cell_type": "markdown",
   "id": "87a39afa",
   "metadata": {},
   "source": [
    "Mutable과 Immutable\n",
    "-> mutable : 원소 수정 가능한 자료형 (List, Dictionary)\n",
    "-> immutable : 원소 수정 불가능한 자료형 (String, Tuple)"
   ]
  },
  {
   "cell_type": "markdown",
   "id": "4d15a05c",
   "metadata": {},
   "source": [
    "Mutable : 리스트"
   ]
  },
  {
   "cell_type": "code",
   "execution_count": 30,
   "id": "c69b9461",
   "metadata": {},
   "outputs": [
    {
     "name": "stdout",
     "output_type": "stream",
     "text": [
      "Before: x_list = ['abcde', 12345]\n",
      "After : x_list = ['abcde', 'fghij']\n"
     ]
    }
   ],
   "source": [
    "x_list = ['abcde', 12345]\n",
    " \n",
    "print(f'Before: {x_list = }')\n",
    "\n",
    "x_list[1] = 'fghij'\n",
    "print(f'After : {x_list = }')"
   ]
  },
  {
   "cell_type": "markdown",
   "id": "5aa1f071",
   "metadata": {},
   "source": [
    "mutable :  딕셔너리"
   ]
  },
  {
   "cell_type": "code",
   "execution_count": 31,
   "id": "565f2cea",
   "metadata": {},
   "outputs": [
    {
     "name": "stdout",
     "output_type": "stream",
     "text": [
      "Before: x_dict = {'name': 'Chunghun Ha', 'id': 67890}\n",
      "After : x_dict = {'name': 'Gildong Hong', 'id': 67890}\n"
     ]
    }
   ],
   "source": [
    "x_dict = {'name' : 'Chunghun Ha', 'id':67890}\n",
    "\n",
    "print(f'Before: {x_dict = }')\n",
    "\n",
    "x_dict['name'] = 'Gildong Hong'\n",
    "print(f'After : {x_dict = }')"
   ]
  },
  {
   "cell_type": "markdown",
   "id": "a1ef9753",
   "metadata": {},
   "source": [
    "immutable: 문자열 -> 원소 바꾸기 불가"
   ]
  },
  {
   "cell_type": "code",
   "execution_count": 32,
   "id": "6b5bb6d0",
   "metadata": {},
   "outputs": [
    {
     "name": "stdout",
     "output_type": "stream",
     "text": [
      "Before : x_str = 'abcde'\n",
      "Error : 'str' object does not support item assignment\n",
      "After : x_str = 'abcde'\n"
     ]
    }
   ],
   "source": [
    "x_str = 'abcde'\n",
    "\n",
    "print(f'Before : {x_str = }')\n",
    "\n",
    "try:\n",
    "    x_str[1] = '2'\n",
    "except TypeError as e:       #문자열은 immutable이므로 오류 발생생\n",
    "    print(f'Error : {e}')\n",
    "\n",
    "print(f'After : {x_str = }')"
   ]
  },
  {
   "cell_type": "markdown",
   "id": "0970f106",
   "metadata": {},
   "source": [
    "immutable: 튜플 -> 원소 바꾸기 불가"
   ]
  },
  {
   "cell_type": "code",
   "execution_count": 33,
   "id": "4ff0a705",
   "metadata": {},
   "outputs": [
    {
     "name": "stdout",
     "output_type": "stream",
     "text": [
      "Before : x_tuple = {12345, 'abcde'}\n",
      "Error : 'set' object does not support item assignment\n",
      "After : x_tuple = {12345, 'abcde'}\n"
     ]
    }
   ],
   "source": [
    "x_tuple = {'abcde', 12345}\n",
    "\n",
    "print(f'Before : {x_tuple = }')\n",
    "\n",
    "try:\n",
    "    x_tuple[1] = 'fghij'\n",
    "except TypeError as e:       #문자열은 immutable이므로 오류 발생생\n",
    "    print(f'Error : {e}')\n",
    "\n",
    "print(f'After : {x_tuple = }')"
   ]
  },
  {
   "cell_type": "markdown",
   "id": "c1849310",
   "metadata": {},
   "source": [
    "자료형 변환\n",
    "- int : 정수형\n",
    "- float : 실수형\n",
    "- str : 문자열"
   ]
  },
  {
   "cell_type": "code",
   "execution_count": 34,
   "id": "1d6770cc",
   "metadata": {},
   "outputs": [
    {
     "name": "stdout",
     "output_type": "stream",
     "text": [
      "12345는 <class 'int'>\n",
      "------------------------------\n",
      "12345.0는 <class 'float'>\n",
      "------------------------------\n",
      "12345는 <class 'str'>\n",
      "------------------------------\n",
      "True는 <class 'bool'>\n"
     ]
    }
   ],
   "source": [
    "var_x = 12345\n",
    "print(f'{var_x}는 {type(var_x)}', end='\\n'+'-'*30+'\\n')\n",
    "\n",
    "var_y = float(var_x)\n",
    "print(f'{var_y}는 {type(var_y)}', end='\\n'+'-'*30+'\\n')\n",
    "      \n",
    "var_y = str(var_x)\n",
    "print(f'{var_y}는 {type(var_y)}', end='\\n'+'-'*30+'\\n')\n",
    "\n",
    "var_y = bool(var_x)\n",
    "print(f'{var_y}는 {type(var_y)}')"
   ]
  },
  {
   "cell_type": "markdown",
   "id": "37c9fe42",
   "metadata": {},
   "source": [
    "literable 자료형 변환 함수\n",
    "- list() : 리스트로 변환\n",
    "- tuple() : 튜플로 변환\n",
    "- dict() : 딕셔너리로 변환\n",
    "- set() : 집합으로 변환"
   ]
  },
  {
   "cell_type": "code",
   "execution_count": 35,
   "id": "e7b2cf64",
   "metadata": {},
   "outputs": [
    {
     "name": "stdout",
     "output_type": "stream",
     "text": [
      "range(-10, 0, 2)는 <class 'range'>\n",
      "------------------------------\n",
      "[-10, -8, -6, -4, -2]는 <class 'list'>\n",
      "------------------------------\n",
      "(-10, -8, -6, -4, -2)는 <class 'tuple'>\n",
      "------------------------------\n",
      "{-10, -8, -6, -4, -2}는 <class 'set'>\n"
     ]
    }
   ],
   "source": [
    "var_x = range(-10, 0, 2)\n",
    "print(f'{var_x}는 {type(var_x)}', end='\\n'+'-'*30+'\\n')\n",
    "\n",
    "var_y = list(var_x)\n",
    "print(f'{var_y}는 {type(var_y)}', end='\\n'+'-'*30+'\\n')\n",
    "\n",
    "var_y = tuple(var_x)\n",
    "print(f'{var_y}는 {type(var_y)}', end='\\n'+'-'*30+'\\n')\n",
    "\n",
    "var_y = set(var_x)\n",
    "print(f'{var_y}는 {type(var_y)}')"
   ]
  },
  {
   "cell_type": "code",
   "execution_count": 36,
   "id": "c2fedbcb",
   "metadata": {},
   "outputs": [
    {
     "name": "stdout",
     "output_type": "stream",
     "text": [
      "abcdab는 <class 'str'>\n",
      "------------------------------\n",
      "['a', 'b', 'c', 'd', 'a', 'b']는 <class 'list'>\n",
      "------------------------------\n",
      "('a', 'b', 'c', 'd', 'a', 'b')는 <class 'tuple'>\n",
      "------------------------------\n",
      "{'b', 'd', 'a', 'c'}는 <class 'set'>\n"
     ]
    }
   ],
   "source": [
    "var_x = \"abcdab\"\n",
    "print(f'{var_x}는 {type(var_x)}', end='\\n'+'-'*30+'\\n')\n",
    "\n",
    "var_y = list(var_x)\n",
    "print(f'{var_y}는 {type(var_y)}', end='\\n'+'-'*30+'\\n')\n",
    "\n",
    "var_y = tuple(var_x)\n",
    "print(f'{var_y}는 {type(var_y)}', end='\\n'+'-'*30+'\\n')\n",
    "\n",
    "var_y = set(var_x)\n",
    "print(f'{var_y}는 {type(var_y)}')  #집합은 중복 허용 X"
   ]
  },
  {
   "cell_type": "markdown",
   "id": "ae464fb2",
   "metadata": {},
   "source": [
    "강의록을 기반으로 추가 학습한 내용"
   ]
  },
  {
   "cell_type": "code",
   "execution_count": 37,
   "id": "50661a8c",
   "metadata": {},
   "outputs": [
    {
     "name": "stdout",
     "output_type": "stream",
     "text": [
      "x = [1, {1, 2}, 'a']\n",
      "type(x) = <class 'list'>\n"
     ]
    }
   ],
   "source": [
    "x = [1, {1, 2}, 'a']            #list 선언\n",
    "print(f'{x = }\\n{type(x) = }')  #데이터 유형 알아보기"
   ]
  },
  {
   "cell_type": "code",
   "execution_count": 38,
   "id": "6bf00e64",
   "metadata": {},
   "outputs": [
    {
     "name": "stdout",
     "output_type": "stream",
     "text": [
      "After : x = [1, {1, 2}, 'aaaa']\n"
     ]
    }
   ],
   "source": [
    "x[2] = 'aaaa'           #x의 'a' 원소 -> 'aaa'로 변경\n",
    "print(f'After : {x = }')"
   ]
  },
  {
   "cell_type": "code",
   "execution_count": 39,
   "id": "296cd014",
   "metadata": {},
   "outputs": [
    {
     "name": "stdout",
     "output_type": "stream",
     "text": [
      "{'name': 'monkey', 'age': 14}\n",
      "monkey\n",
      "14\n",
      "monkey 14\n"
     ]
    }
   ],
   "source": [
    "y = {'name' : 'monkey', 'age' : 14}  #dictionary 선언\n",
    "print(y)\n",
    "\n",
    "print(y['name'])    #따옴표없이 이름만 출력하기\n",
    "print(y['age'])\n",
    "\n",
    "print(y['name'], y['age']) "
   ]
  },
  {
   "cell_type": "code",
   "execution_count": 40,
   "id": "22144384",
   "metadata": {},
   "outputs": [],
   "source": [
    "z = 'abcdefghjiklmnopqrstuvwxyz'\n",
    "lengthz = len(z)            #z의 길이 측정"
   ]
  },
  {
   "cell_type": "code",
   "execution_count": 41,
   "id": "2d6aab32",
   "metadata": {},
   "outputs": [
    {
     "name": "stdout",
     "output_type": "stream",
     "text": [
      "abcdefghijklmnopqrstuwxyz의 길이는 = 26\n"
     ]
    }
   ],
   "source": [
    "print(f'abcdefghijklmnopqrstuwxyz의 길이는 = {lengthz}')"
   ]
  },
  {
   "cell_type": "code",
   "execution_count": 42,
   "id": "7f445333",
   "metadata": {},
   "outputs": [
    {
     "name": "stdout",
     "output_type": "stream",
     "text": [
      "this is error\n",
      "After : A = 'Korean'\n"
     ]
    }
   ],
   "source": [
    "A = 'Korean'                    #원소 바꾸기 X\n",
    "\n",
    "try:                            #try ~ except 구문 사용\n",
    "    A[0] = 'America'\n",
    "except TypeError as e:\n",
    "    print(f'this is error')   \n",
    "    print(f'After : {A = }')"
   ]
  }
 ],
 "metadata": {
  "kernelspec": {
   "display_name": "base",
   "language": "python",
   "name": "python3"
  },
  "language_info": {
   "codemirror_mode": {
    "name": "ipython",
    "version": 3
   },
   "file_extension": ".py",
   "mimetype": "text/x-python",
   "name": "python",
   "nbconvert_exporter": "python",
   "pygments_lexer": "ipython3",
   "version": "3.12.9"
  }
 },
 "nbformat": 4,
 "nbformat_minor": 5
}
